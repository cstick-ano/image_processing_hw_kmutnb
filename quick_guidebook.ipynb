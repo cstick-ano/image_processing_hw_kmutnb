{
 "cells": [
  {
   "cell_type": "markdown",
   "id": "4d8e7baf",
   "metadata": {},
   "source": [
    "# Simple guidebook\n",
    "- To run the code below:\n",
    "    <ol>\n",
    "    <li>Click on cell to select it</li>\n",
    "    <li>Press <b>SHIFT+ENTER</b> to run or click (&#9658; Run)</li>\n",
    "    </ol>\n",
    "- For more information\n",
    "[Link to Jupyter Notebook Homepage](https://jupyter-notebook.readthedocs.io/en/stable/index.html)"
   ]
  },
  {
   "cell_type": "code",
   "execution_count": null,
   "id": "edad2ba5",
   "metadata": {},
   "outputs": [],
   "source": [
    "print(\"Hello World\")"
   ]
  },
  {
   "cell_type": "code",
   "execution_count": null,
   "id": "42140ba9",
   "metadata": {},
   "outputs": [],
   "source": [
    "print(1+1)"
   ]
  }
 ],
 "metadata": {
  "kernelspec": {
   "display_name": "Python 3",
   "language": "python",
   "name": "python3"
  },
  "language_info": {
   "codemirror_mode": {
    "name": "ipython",
    "version": 3
   },
   "file_extension": ".py",
   "mimetype": "text/x-python",
   "name": "python",
   "nbconvert_exporter": "python",
   "pygments_lexer": "ipython3",
   "version": "3.9.2"
  }
 },
 "nbformat": 4,
 "nbformat_minor": 5
}
