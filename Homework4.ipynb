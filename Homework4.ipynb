{
  "nbformat": 4,
  "nbformat_minor": 0,
  "metadata": {
    "colab": {
      "name": "Homework4.ipynb",
      "provenance": [],
      "collapsed_sections": [],
      "toc_visible": true,
      "authorship_tag": "ABX9TyO5kJfQWlyRP5+WDyMqEBGU",
      "include_colab_link": true
    },
    "kernelspec": {
      "name": "python3",
      "display_name": "Python 3"
    },
    "language_info": {
      "name": "python"
    }
  },
  "cells": [
    {
      "cell_type": "markdown",
      "metadata": {
        "id": "view-in-github",
        "colab_type": "text"
      },
      "source": [
        "<a href=\"https://colab.research.google.com/github/jbinteam/010723305/blob/main/Homework4.ipynb\" target=\"_parent\"><img src=\"https://colab.research.google.com/assets/colab-badge.svg\" alt=\"Open In Colab\"/></a>"
      ]
    },
    {
      "cell_type": "markdown",
      "metadata": {
        "id": "P1Slfqlq5bUI"
      },
      "source": [
        "# การบ้านสัปดาห์ที่ 4\n",
        "- ความเข้าใจเกี่ยวกับการประมวลภาพด้วย Morphology และการประยุกต์ใช้งาน\n",
        "- การหา contour ของสีที่ต้องการด้วยการใช้เงื่อนไขจากความเข้าใจเรื่อง colorspace ด้วย opencv\n"
      ]
    },
    {
      "cell_type": "code",
      "metadata": {
        "id": "C_3qezrVZ8Lj"
      },
      "source": [
        "import numpy as np\n",
        "import cv2\n",
        "import matplotlib.pyplot as plt\n",
        "from PIL import Image"
      ],
      "execution_count": 79,
      "outputs": []
    },
    {
      "cell_type": "markdown",
      "metadata": {
        "id": "P04zoSaezTX3"
      },
      "source": [
        "## แบบฝึกหัด 4.1\n",
        "- erosion, dilation, openning, closing"
      ]
    },
    {
      "cell_type": "code",
      "metadata": {
        "colab": {
          "base_uri": "https://localhost:8080/",
          "height": 442
        },
        "id": "vM0pMOsS5Eb6",
        "outputId": "1f6277df-7da7-4ab5-b15a-b018ab4c4dd6"
      },
      "source": [
        "data=np.array([[0,0  ,0  ,0  ,0  ,0  ,0  ,0  ,0  ,0  ,0  ,0],\n",
        "               [0,255,255,255,0  ,0  ,0  ,0  ,255,255,255,0],\n",
        "               [0,255,255,255,255,255,255,255,255,255,255,0],\n",
        "               [0,255,255,255,255,255,255,255,255,255,255,0],\n",
        "               [0,255,255,255,255,255,255,255,255,255,255,0],\n",
        "               [0,255,255,255,0  ,0  ,0  ,0  ,255,255,255,0],\n",
        "               [0,0  ,0  ,0  ,0  ,0  ,0  ,0  ,0  ,0  ,0  ,0]],np.uint8)\n",
        "\n",
        "horizontal_SE=np.array([[0  ,0  ,0  ],\n",
        "                        [255,255,255],\n",
        "                        [0  ,0  ,0  ]],np.uint8)\n",
        "\n",
        "vertical_SE=np.array([[0,255,0],\n",
        "                      [0,255,0],\n",
        "                      [0,255,0]],np.uint8)\n",
        "\n",
        "sqr_SE = np.ones((3,3),np.uint8)\n",
        "\n",
        "\n",
        "plus_SE=np.array([[0,255,0],\n",
        "                      [255,255,255],\n",
        "                      [0,255,0]],np.uint8)\n",
        "\n",
        "kernel=vertical_SE\n",
        "# kernel=horizontal_SE\n",
        "# kernel=sqr_SE\n",
        "# kernel=plus_SE\n",
        "processed=cv2.erode(data,kernel,iterations=1)\n",
        "# processed=cv2.dilate(data,kernel,iterations=1)\n",
        "\n",
        "\n",
        "fig, ((original_dis,SE_dis, output_dis)) = plt.subplots(nrows=1, ncols=3)\n",
        "fig.set_figwidth(15)\n",
        "fig.set_figheight(15)\n",
        "\n",
        "\n",
        "original_dis.set_xticks(np.arange(-.5, 12, 1))\n",
        "original_dis.set_yticks(np.arange(-.5, 7, 1))\n",
        "original_dis.set_xticklabels(np.arange(0, 12, 1))\n",
        "original_dis.set_yticklabels(np.arange(0, 7, 1))\n",
        "\n",
        "original_dis.imshow(data,'gray')\n",
        "original_dis.title.set_text('original')\n",
        "original_dis.grid()\n",
        "\n",
        "SE_dis.set_xticks(np.arange(-.5, 3, 1))\n",
        "SE_dis.set_yticks(np.arange(-.5, 3, 1))\n",
        "SE_dis.set_xticklabels(np.arange(0, 3, 1))\n",
        "SE_dis.set_yticklabels(np.arange(0, 3, 1))\n",
        "\n",
        "SE_dis.imshow(kernel,'gray')\n",
        "SE_dis.title.set_text('structure element')\n",
        "SE_dis.grid()\n",
        "\n",
        "output_dis.set_xticks(np.arange(-.5, 12, 1))\n",
        "output_dis.set_yticks(np.arange(-.5, 7, 1))\n",
        "output_dis.set_xticklabels(np.arange(0, 12, 1))\n",
        "output_dis.set_yticklabels(np.arange(0, 7, 1))\n",
        "\n",
        "output_dis.imshow(processed,'gray')\n",
        "output_dis.title.set_text('output')\n",
        "output_dis.grid()\n",
        "\n",
        "\n",
        "fig.tight_layout()\n",
        "plt.show()"
      ],
      "execution_count": 130,
      "outputs": [
        {
          "output_type": "display_data",
          "data": {
            "image/png": "[encoded data removed]",
            "text/plain": [
              "<Figure size 1500x1500 with 3 Axes>"
            ]
          },
          "metadata": {
            "tags": []
          }
        }
      ]
    },
    {
      "cell_type": "markdown",
      "metadata": {
        "id": "F7QwhyG0zg1R"
      },
      "source": [
        "## แบบฝึกหัดที่ 4.2\n",
        "\n",
        "- contour detection ด้วย opencv"
      ]
    }
  ]
}